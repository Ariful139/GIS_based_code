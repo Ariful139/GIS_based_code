{
 "cells": [
  {
   "cell_type": "code",
   "execution_count": 2,
   "id": "7df47551",
   "metadata": {},
   "outputs": [],
   "source": [
    "import geopandas as gpd\n",
    "import pandas as pd\n",
    "from shapely.geometry import LineString"
   ]
  },
  {
   "cell_type": "code",
   "execution_count": 3,
   "id": "4cff32da",
   "metadata": {},
   "outputs": [],
   "source": [
    "# Define the file paths\n",
    "bankline_folder = \"D:/BUET/Thesis/ArcGIS/Waterbody and Bankline/Final_Bankline\"\n",
    "waterbody_folder = \"D:/BUET/Thesis/ArcGIS/Waterbody and Bankline/Final_Waterbody\"\n",
    "cross_section_file = \"D:/BUET/Thesis/ArcGIS/Cross_Section/cross_section_1km.shp\""
   ]
  },
  {
   "cell_type": "code",
   "execution_count": 6,
   "id": "8913269f",
   "metadata": {},
   "outputs": [],
   "source": [
    "# Load the cross section shapefile\n",
    "cross_sections = gpd.read_file(cross_section_file)\n",
    "\n",
    "# Initialize a dictionary to store the results\n",
    "results = {}\n",
    "\n",
    "# Loop through each year\n",
    "for year in range(1988, 2025):\n",
    "    # Load bankline and waterbody shapefiles for the given year\n",
    "    bankline_file = f\"{bankline_folder}/{year}.shp\"\n",
    "    waterbody_file = f\"{waterbody_folder}/water_body_{year}.shp\"\n",
    "    bankline = gpd.read_file(bankline_file)\n",
    "    waterbody = gpd.read_file(waterbody_file)\n",
    "\n",
    "    # Initialize lists to store measurements for this year\n",
    "    bank_to_bank_distances = []\n",
    "    waterbody_lengths = []\n",
    "    filtered_waterbody_lengths = []\n",
    "\n",
    "    # Calculate distances for each cross section\n",
    "    for _, cross_section in cross_sections.iterrows():\n",
    "        cross_line = cross_section.geometry\n",
    "\n",
    "        # Calculate bank to bank distance\n",
    "        bankline_intersections = bankline[bankline.intersects(cross_line)]\n",
    "        if len(bankline_intersections) == 2:\n",
    "            bank_points = [bankline_intersections.iloc[i].geometry.intersection(cross_line) for i in range(2)]\n",
    "            bank_to_bank_dist = bank_points[0].distance(bank_points[1])\n",
    "        else:\n",
    "            bank_to_bank_dist = None  # Set to None if the two banks are not detected\n",
    "\n",
    "        # Calculate waterbody length along the cross section\n",
    "        waterbody_intersections = waterbody[waterbody.intersects(cross_line)]\n",
    "        total_waterbody_length = 0\n",
    "        filtered_waterbody_length = 0\n",
    "\n",
    "        for _, waterbody_part in waterbody_intersections.iterrows():\n",
    "            intersected_length = waterbody_part.geometry.intersection(cross_line).length\n",
    "            total_waterbody_length += intersected_length\n",
    "            if intersected_length >= 80:\n",
    "                filtered_waterbody_length += intersected_length\n",
    "\n",
    "        # Store the results for this cross section\n",
    "        bank_to_bank_distances.append(bank_to_bank_dist)\n",
    "        waterbody_lengths.append(total_waterbody_length)\n",
    "        filtered_waterbody_lengths.append(filtered_waterbody_length)\n",
    "\n",
    "    # Add the data for the year to the results dictionary\n",
    "    results[f\"bank_to_bank_{year}\"] = bank_to_bank_distances\n",
    "    results[f\"waterbody_length_{year}\"] = waterbody_lengths\n",
    "    results[f\"filtered_waterbody_length_{year}\"] = filtered_waterbody_lengths\n",
    "\n",
    "# Create a DataFrame with cross section IDs and measurement data\n",
    "output_df = pd.DataFrame(results)\n",
    "output_df.index = cross_sections[\"ID\"]  # Assuming 'id' column is cross section identifier\n",
    "\n",
    "# Save to Excel\n",
    "output_df.to_excel(\"bank_waterbody_distances.xlsx\")"
   ]
  },
  {
   "cell_type": "code",
   "execution_count": null,
   "id": "b5a4e00c",
   "metadata": {},
   "outputs": [],
   "source": []
  }
 ],
 "metadata": {
  "kernelspec": {
   "display_name": "Python 3 (ipykernel)",
   "language": "python",
   "name": "python3"
  },
  "language_info": {
   "codemirror_mode": {
    "name": "ipython",
    "version": 3
   },
   "file_extension": ".py",
   "mimetype": "text/x-python",
   "name": "python",
   "nbconvert_exporter": "python",
   "pygments_lexer": "ipython3",
   "version": "3.11.5"
  }
 },
 "nbformat": 4,
 "nbformat_minor": 5
}
