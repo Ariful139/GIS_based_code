{
 "cells": [
  {
   "cell_type": "code",
   "execution_count": 6,
   "id": "f970de49",
   "metadata": {},
   "outputs": [],
   "source": [
    "import os\n",
    "import geopandas as gpd\n",
    "import pandas as pd"
   ]
  },
  {
   "cell_type": "code",
   "execution_count": 7,
   "id": "8fc09d7c",
   "metadata": {},
   "outputs": [],
   "source": [
    "# Set directory paths\n",
    "waterbody_dir = 'D:/BUET/Thesis/ArcGIS/Waterbody and Bankline/Final_Waterbody'  # Replace with your folder path containing yearly waterbody shapefiles\n",
    "cross_section_path = 'D:/BUET/Thesis/ArcGIS/Waterbody and Bankline/Cross_Section/cross_section_1km.shp'  # Replace with your cross-section shapefile path\n",
    "output_dir = 'D:/BUET/Thesis/ArcGIS/Waterbody and Bankline/Data'          # Replace with your desired output folder\n"
   ]
  },
  {
   "cell_type": "code",
   "execution_count": 8,
   "id": "1d8d4247",
   "metadata": {},
   "outputs": [
    {
     "name": "stdout",
     "output_type": "stream",
     "text": [
      "Results for 1988 saved to D:/BUET/Thesis/ArcGIS/Waterbody and Bankline/Data/waterbody_counts_1988.xlsx\n",
      "Results for 1989 saved to D:/BUET/Thesis/ArcGIS/Waterbody and Bankline/Data/waterbody_counts_1989.xlsx\n",
      "Results for 1990 saved to D:/BUET/Thesis/ArcGIS/Waterbody and Bankline/Data/waterbody_counts_1990.xlsx\n",
      "Results for 1991 saved to D:/BUET/Thesis/ArcGIS/Waterbody and Bankline/Data/waterbody_counts_1991.xlsx\n",
      "Results for 1992 saved to D:/BUET/Thesis/ArcGIS/Waterbody and Bankline/Data/waterbody_counts_1992.xlsx\n",
      "Results for 1993 saved to D:/BUET/Thesis/ArcGIS/Waterbody and Bankline/Data/waterbody_counts_1993.xlsx\n",
      "Results for 1994 saved to D:/BUET/Thesis/ArcGIS/Waterbody and Bankline/Data/waterbody_counts_1994.xlsx\n",
      "Results for 1995 saved to D:/BUET/Thesis/ArcGIS/Waterbody and Bankline/Data/waterbody_counts_1995.xlsx\n",
      "Results for 1996 saved to D:/BUET/Thesis/ArcGIS/Waterbody and Bankline/Data/waterbody_counts_1996.xlsx\n",
      "Results for 1997 saved to D:/BUET/Thesis/ArcGIS/Waterbody and Bankline/Data/waterbody_counts_1997.xlsx\n",
      "Results for 1998 saved to D:/BUET/Thesis/ArcGIS/Waterbody and Bankline/Data/waterbody_counts_1998.xlsx\n",
      "Results for 1999 saved to D:/BUET/Thesis/ArcGIS/Waterbody and Bankline/Data/waterbody_counts_1999.xlsx\n",
      "Results for 2000 saved to D:/BUET/Thesis/ArcGIS/Waterbody and Bankline/Data/waterbody_counts_2000.xlsx\n",
      "Results for 2001 saved to D:/BUET/Thesis/ArcGIS/Waterbody and Bankline/Data/waterbody_counts_2001.xlsx\n",
      "Results for 2002 saved to D:/BUET/Thesis/ArcGIS/Waterbody and Bankline/Data/waterbody_counts_2002.xlsx\n",
      "Results for 2003 saved to D:/BUET/Thesis/ArcGIS/Waterbody and Bankline/Data/waterbody_counts_2003.xlsx\n",
      "Results for 2004 saved to D:/BUET/Thesis/ArcGIS/Waterbody and Bankline/Data/waterbody_counts_2004.xlsx\n",
      "Results for 2005 saved to D:/BUET/Thesis/ArcGIS/Waterbody and Bankline/Data/waterbody_counts_2005.xlsx\n",
      "Results for 2006 saved to D:/BUET/Thesis/ArcGIS/Waterbody and Bankline/Data/waterbody_counts_2006.xlsx\n",
      "Results for 2007 saved to D:/BUET/Thesis/ArcGIS/Waterbody and Bankline/Data/waterbody_counts_2007.xlsx\n",
      "Results for 2008 saved to D:/BUET/Thesis/ArcGIS/Waterbody and Bankline/Data/waterbody_counts_2008.xlsx\n",
      "Results for 2009 saved to D:/BUET/Thesis/ArcGIS/Waterbody and Bankline/Data/waterbody_counts_2009.xlsx\n",
      "Results for 2010 saved to D:/BUET/Thesis/ArcGIS/Waterbody and Bankline/Data/waterbody_counts_2010.xlsx\n",
      "Results for 2011 saved to D:/BUET/Thesis/ArcGIS/Waterbody and Bankline/Data/waterbody_counts_2011.xlsx\n",
      "Results for 2012 saved to D:/BUET/Thesis/ArcGIS/Waterbody and Bankline/Data/waterbody_counts_2012.xlsx\n",
      "Results for 2013 saved to D:/BUET/Thesis/ArcGIS/Waterbody and Bankline/Data/waterbody_counts_2013.xlsx\n",
      "Results for 2014 saved to D:/BUET/Thesis/ArcGIS/Waterbody and Bankline/Data/waterbody_counts_2014.xlsx\n",
      "Results for 2015 saved to D:/BUET/Thesis/ArcGIS/Waterbody and Bankline/Data/waterbody_counts_2015.xlsx\n",
      "Results for 2016 saved to D:/BUET/Thesis/ArcGIS/Waterbody and Bankline/Data/waterbody_counts_2016.xlsx\n",
      "Results for 2017 saved to D:/BUET/Thesis/ArcGIS/Waterbody and Bankline/Data/waterbody_counts_2017.xlsx\n",
      "Results for 2018 saved to D:/BUET/Thesis/ArcGIS/Waterbody and Bankline/Data/waterbody_counts_2018.xlsx\n",
      "Results for 2019 saved to D:/BUET/Thesis/ArcGIS/Waterbody and Bankline/Data/waterbody_counts_2019.xlsx\n",
      "Results for 2020 saved to D:/BUET/Thesis/ArcGIS/Waterbody and Bankline/Data/waterbody_counts_2020.xlsx\n",
      "Results for 2021 saved to D:/BUET/Thesis/ArcGIS/Waterbody and Bankline/Data/waterbody_counts_2021.xlsx\n",
      "Results for 2022 saved to D:/BUET/Thesis/ArcGIS/Waterbody and Bankline/Data/waterbody_counts_2022.xlsx\n",
      "Results for 2023 saved to D:/BUET/Thesis/ArcGIS/Waterbody and Bankline/Data/waterbody_counts_2023.xlsx\n",
      "Results for 2024 saved to D:/BUET/Thesis/ArcGIS/Waterbody and Bankline/Data/waterbody_counts_2024.xlsx\n"
     ]
    }
   ],
   "source": [
    "# Check if output directory exists, if not, create it\n",
    "os.makedirs(output_dir, exist_ok=True)\n",
    "\n",
    "# Loop through each shapefile in waterbody_dir\n",
    "for year in range(1988, 2025):\n",
    "    waterbody_file = f\"{waterbody_dir}/water_body_{year}.shp\"\n",
    "    \n",
    "    # Check if waterbody shapefile exists for the current year\n",
    "    if not os.path.exists(waterbody_file):\n",
    "        print(f\"Shapefile for year {year} not found. Skipping...\")\n",
    "        continue\n",
    "    \n",
    "    # Load the yearly waterbody shapefile\n",
    "    waterbodies = gpd.read_file(waterbody_file)\n",
    "    \n",
    "    # Ensure both GeoDataFrames use the same CRS\n",
    "    if waterbodies.crs != cross_sections.crs:\n",
    "        waterbodies = waterbodies.to_crs(cross_sections.crs)\n",
    "    \n",
    "    # Create an empty DataFrame to store counts for each cross-section\n",
    "    cross_section_counts = pd.DataFrame(columns=['CrossSection_ID', f'Waterbody_Count_{year}'])\n",
    "    \n",
    "    # Calculate the number of waterbodies along each cross-section\n",
    "    for index, cross_section in cross_sections.iterrows():\n",
    "        # Use spatial join to count intersecting waterbodies\n",
    "        intersecting_waterbodies = waterbodies[waterbodies.intersects(cross_section.geometry)]\n",
    "        waterbody_count = len(intersecting_waterbodies)\n",
    "        \n",
    "        # Append the count to the results DataFrame using pd.concat\n",
    "        cross_section_counts = pd.concat([cross_section_counts, pd.DataFrame([{\n",
    "            'CrossSection_ID': cross_section['ID'],  # Replace 'ID' with the actual column name for cross-section ID\n",
    "            f'Waterbody_Count_{year}': waterbody_count\n",
    "        }])], ignore_index=True)\n",
    "    \n",
    "    # Define the output Excel file path for the year\n",
    "    output_file = f\"{output_dir}/waterbody_counts_{year}.xlsx\"\n",
    "    \n",
    "    # Save the count DataFrame to an Excel file\n",
    "    cross_section_counts.to_excel(output_file, index=False)\n",
    "    print(f\"Results for {year} saved to {output_file}\")"
   ]
  },
  {
   "cell_type": "code",
   "execution_count": null,
   "id": "f1b0e275",
   "metadata": {},
   "outputs": [],
   "source": []
  }
 ],
 "metadata": {
  "kernelspec": {
   "display_name": "Python 3 (ipykernel)",
   "language": "python",
   "name": "python3"
  },
  "language_info": {
   "codemirror_mode": {
    "name": "ipython",
    "version": 3
   },
   "file_extension": ".py",
   "mimetype": "text/x-python",
   "name": "python",
   "nbconvert_exporter": "python",
   "pygments_lexer": "ipython3",
   "version": "3.11.5"
  }
 },
 "nbformat": 4,
 "nbformat_minor": 5
}
