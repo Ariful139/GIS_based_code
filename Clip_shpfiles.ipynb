{
 "cells": [
  {
   "cell_type": "code",
   "execution_count": 4,
   "id": "908b7a75",
   "metadata": {},
   "outputs": [],
   "source": [
    "import geopandas as gpd\n",
    "import matplotlib.pyplot as plt\n",
    "import os\n",
    "import glob"
   ]
  },
  {
   "cell_type": "code",
   "execution_count": 6,
   "id": "5c9684b3",
   "metadata": {},
   "outputs": [
    {
     "ename": "SyntaxError",
     "evalue": "cannot assign to literal (2838477852.py, line 38)",
     "output_type": "error",
     "traceback": [
      "\u001b[1;36m  Cell \u001b[1;32mIn[6], line 38\u001b[1;36m\u001b[0m\n\u001b[1;33m    for 1988, clipped_layer in enumerate(clipped_layers):\u001b[0m\n\u001b[1;37m        ^\u001b[0m\n\u001b[1;31mSyntaxError\u001b[0m\u001b[1;31m:\u001b[0m cannot assign to literal\n"
     ]
    }
   ],
   "source": [
    "def clip_and_save_shapefiles(water_body_dir, aoi_file, output_dir):\n",
    "    # Load AOI shapefile\n",
    "    aoi = gpd.read_file(aoi_file)\n",
    "    \n",
    "    # Check if output directory exists; if not, create it\n",
    "    if not os.path.exists(output_dir):\n",
    "        os.makedirs(output_dir)\n",
    "    \n",
    "    # Find all shapefiles in the water body directory\n",
    "    water_body_files = glob.glob(os.path.join(water_body_dir, \"*.shp\"))\n",
    "    if not water_body_files:\n",
    "        print(\"No shapefiles found in the specified directory.\")\n",
    "        return\n",
    "    \n",
    "    # Initialize a list to store clipped water body shapefiles for visualization\n",
    "    clipped_layers = []\n",
    "    \n",
    "    for idx, water_body_file in enumerate(water_body_files):\n",
    "        # Load each water body shapefile\n",
    "        water_body = gpd.read_file(water_body_file)\n",
    "        \n",
    "        # Perform clipping\n",
    "        clipped = gpd.clip(water_body, aoi)\n",
    "        \n",
    "        # Save the clipped shapefile to the output directory\n",
    "        output_path = os.path.join(output_dir, f\"clipped_water_body_{idx + 1}.shp\")\n",
    "        clipped.to_file(output_path)\n",
    "        \n",
    "        # Add the clipped layer to the list for visualization\n",
    "        clipped_layers.append(clipped)\n",
    "        \n",
    "        print(f\"Clipped shapefile saved to {output_path}\")\n",
    "    \n",
    "    # Plot the AOI and all clipped layers together\n",
    "    fig, ax = plt.subplots(figsize=(10, 10))\n",
    "    aoi.boundary.plot(ax=ax, color=\"black\", linewidth=1, label=\"AOI\")\n",
    "    \n",
    "    for 1988, clipped_layer in enumerate(clipped_layers):\n",
    "        clipped_layer.plot(ax=ax, label=f\"Clipped Water Body {1988 + 1}\")\n",
    "    \n",
    "    plt.legend()\n",
    "    plt.title(\"Clipped Water Bodies within AOI\")\n",
    "    plt.show()\n",
    "\n",
    "# Example usage\n",
    "water_body_dir = \"D:/BUET/Thesis/ArcGIS/Waterbody and Bankline/Final_Waterbody\"  # Directory containing all water body shapefiles\n",
    "aoi_file = \"D:/BUET/Thesis/ArcGIS/Waterbody and Bankline/Study_area_SHP/AOI.shp\"\n",
    "output_dir = \"D:/BUET/Thesis/ArcGIS/Waterbody and Bankline/Water\"\n",
    "\n",
    "clip_and_save_shapefiles(water_body_dir, aoi_file, output_dir)"
   ]
  },
  {
   "cell_type": "code",
   "execution_count": null,
   "id": "45b09ebc",
   "metadata": {},
   "outputs": [],
   "source": []
  }
 ],
 "metadata": {
  "kernelspec": {
   "display_name": "Python 3 (ipykernel)",
   "language": "python",
   "name": "python3"
  },
  "language_info": {
   "codemirror_mode": {
    "name": "ipython",
    "version": 3
   },
   "file_extension": ".py",
   "mimetype": "text/x-python",
   "name": "python",
   "nbconvert_exporter": "python",
   "pygments_lexer": "ipython3",
   "version": "3.11.5"
  }
 },
 "nbformat": 4,
 "nbformat_minor": 5
}
