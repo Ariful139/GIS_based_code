{
 "cells": [
  {
   "cell_type": "code",
   "execution_count": 6,
   "id": "ae827484",
   "metadata": {},
   "outputs": [
    {
     "name": "stdout",
     "output_type": "stream",
     "text": [
      "Requirement already satisfied: geopandas in c:\\users\\gg\\anaconda3\\lib\\site-packages (1.0.1)\n",
      "Requirement already satisfied: shapely in c:\\users\\gg\\anaconda3\\lib\\site-packages (2.0.3)\n",
      "Requirement already satisfied: numpy>=1.22 in c:\\users\\gg\\anaconda3\\lib\\site-packages (from geopandas) (1.24.3)\n",
      "Requirement already satisfied: pyogrio>=0.7.2 in c:\\users\\gg\\anaconda3\\lib\\site-packages (from geopandas) (0.10.0)\n",
      "Requirement already satisfied: packaging in c:\\users\\gg\\anaconda3\\lib\\site-packages (from geopandas) (23.1)\n",
      "Requirement already satisfied: pandas>=1.4.0 in c:\\users\\gg\\anaconda3\\lib\\site-packages (from geopandas) (2.0.3)\n",
      "Requirement already satisfied: pyproj>=3.3.0 in c:\\users\\gg\\anaconda3\\lib\\site-packages (from geopandas) (3.6.1)\n",
      "Requirement already satisfied: python-dateutil>=2.8.2 in c:\\users\\gg\\anaconda3\\lib\\site-packages (from pandas>=1.4.0->geopandas) (2.8.2)\n",
      "Requirement already satisfied: pytz>=2020.1 in c:\\users\\gg\\anaconda3\\lib\\site-packages (from pandas>=1.4.0->geopandas) (2023.3.post1)\n",
      "Requirement already satisfied: tzdata>=2022.1 in c:\\users\\gg\\anaconda3\\lib\\site-packages (from pandas>=1.4.0->geopandas) (2023.3)\n",
      "Requirement already satisfied: certifi in c:\\users\\gg\\anaconda3\\lib\\site-packages (from pyogrio>=0.7.2->geopandas) (2024.2.2)\n",
      "Requirement already satisfied: six>=1.5 in c:\\users\\gg\\anaconda3\\lib\\site-packages (from python-dateutil>=2.8.2->pandas>=1.4.0->geopandas) (1.16.0)\n",
      "Note: you may need to restart the kernel to use updated packages.\n"
     ]
    }
   ],
   "source": [
    "pip install geopandas shapely"
   ]
  },
  {
   "cell_type": "code",
   "execution_count": 62,
   "id": "a88057b2",
   "metadata": {},
   "outputs": [],
   "source": [
    "import geopandas as gpd\n",
    "from shapely.geometry import LineString, Point"
   ]
  },
  {
   "cell_type": "code",
   "execution_count": 99,
   "id": "f9b5e0dd",
   "metadata": {},
   "outputs": [],
   "source": [
    "# Load shapefiles with forward slashes\n",
    "bankline_shp = gpd.read_file(\"D:/BUET/Thesis/ArcGIS/Bankline/2024.shp\")  \n",
    "waterbody_shp = gpd.read_file(\"D:/BUET/Thesis/ArcGIS/River TIF/Water_SHP/2024.shp\")  \n",
    "cross_sections_shp = gpd.read_file(\"D:/BUET/Thesis/ArcGIS/Cross_Section/Cross_section.shp\")"
   ]
  },
  {
   "cell_type": "code",
   "execution_count": 100,
   "id": "904d4703",
   "metadata": {},
   "outputs": [],
   "source": [
    "# Ensure all data are in the same coordinate reference system (CRS)\n",
    "target_crs = bankline_shp.crs\n",
    "waterbody_shp = waterbody_shp.to_crs(target_crs)\n",
    "cross_sections_shp = cross_sections_shp.to_crs(target_crs)"
   ]
  },
  {
   "cell_type": "code",
   "execution_count": 101,
   "id": "31eca185",
   "metadata": {},
   "outputs": [],
   "source": [
    "# Compute distance between banklines along each cross-section\n",
    "distances = []\n",
    "for index, cross_section in cross_sections_shp.iterrows():\n",
    "    # Buffer the cross-section to create an intersection area with the banklines\n",
    "    cross_line = cross_section.geometry\n",
    "    bank_intersections = bankline_shp.intersection(cross_line)\n",
    "    waterbody_intersections = waterbody_shp.intersection(cross_line)\n",
    "\n",
    "    # Calculate distance between two bankline points on the cross-section\n",
    "    bank_points = [p for p in bank_intersections if not p.is_empty]\n",
    "    if len(bank_points) >= 2:\n",
    "        bank_distance = bank_points[0].distance(bank_points[1])\n",
    "    else:\n",
    "        bank_distance = None  # Not enough intersection points for measurement\n",
    "    \n",
    "    # Sum the lengths of waterbody segments that are at least 80 meters\n",
    "    qualifying_water_lengths = sum(w.length for w in waterbody_intersections if not w.is_empty and w.length >= 80)\n",
    "\n",
    "    # Convert distances from meters to kilometers\n",
    "    if bank_distance is not None:\n",
    "        bank_distance /= 1000  # Convert bankline distance to km\n",
    "    qualifying_water_lengths /= 1000  # Convert waterbody length to km\n",
    "\n",
    "    # Store results for each cross-section\n",
    "    distances.append({\n",
    "        \"cross_section_id\": cross_section[\"Id\"],  # Assuming each cross-section has an ID field\n",
    "        \"bankline_distance\": bank_distance,\n",
    "        \"waterbody_length\": qualifying_water_lengths\n",
    "    })"
   ]
  },
  {
   "cell_type": "code",
   "execution_count": 102,
   "id": "22f95e57",
   "metadata": {},
   "outputs": [
    {
     "name": "stdout",
     "output_type": "stream",
     "text": [
      "    cross_section_id  bankline_distance  waterbody_length\n",
      "0                  1          10.955135          4.364492\n",
      "1                  2           9.516375          2.192629\n",
      "2                  3          12.306818          3.288727\n",
      "3                  4          14.714884          2.920279\n",
      "4                  5          14.400389          3.037890\n",
      "5                  6          15.067635          2.680038\n",
      "6                  7          13.637407          2.972021\n",
      "7                  8          12.298553          2.627590\n",
      "8                  9           9.654935          2.787641\n",
      "9                 10          10.373041          2.420730\n",
      "10                11          13.545766          2.476261\n",
      "11                12          14.405426          2.387510\n",
      "12                13          14.901520          2.502257\n",
      "13                14          12.100940          2.748764\n",
      "14                15          15.034970          2.731725\n",
      "15                16          13.442071          2.582636\n",
      "16                17           9.151584          2.388607\n",
      "17                18           8.503021          2.325294\n",
      "18                19           6.007312          1.788470\n",
      "19                20           8.510780          2.472999\n",
      "20                21          11.315193          0.896734\n",
      "21                22          11.585703          5.466516\n",
      "22                23          12.004000          1.644697\n",
      "23                24          14.538487          2.339090\n",
      "24                25          16.676394          3.247769\n",
      "25                26          16.273126          2.711759\n",
      "26                27          15.213377          2.313928\n",
      "27                28          11.006229          2.125602\n",
      "28                29           8.914358          2.922975\n",
      "29                30           9.172991          4.097282\n",
      "30                31           9.873223          2.448114\n",
      "31                32           9.644236          2.539472\n",
      "32                33          10.439304          2.474321\n",
      "33                34          13.261876          2.499238\n",
      "34                35          13.712829          2.084926\n",
      "35                36          11.583354          1.884551\n",
      "36                37          14.877323          3.146035\n",
      "37                38          13.793386          2.810782\n",
      "38                39          10.344112          2.589897\n",
      "39                40          12.704781          2.615120\n",
      "40                41           9.770020          2.353495\n"
     ]
    }
   ],
   "source": [
    "# Convert results to a GeoDataFrame for easier analysis and exporting\n",
    "distances_gdf = gpd.GeoDataFrame(distances)\n",
    "\n",
    "# Optional: Save results to a new shapefile or CSV\n",
    "distances_gdf.to_csv(\"cross_section_distances_2024.csv\", index=False)  # To save as a CSV file\n",
    "\n",
    "# Print the results\n",
    "print(distances_gdf)"
   ]
  },
  {
   "cell_type": "code",
   "execution_count": null,
   "id": "b7faec4e",
   "metadata": {},
   "outputs": [],
   "source": []
  },
  {
   "cell_type": "code",
   "execution_count": null,
   "id": "104fe5cf",
   "metadata": {},
   "outputs": [],
   "source": []
  }
 ],
 "metadata": {
  "kernelspec": {
   "display_name": "Python 3 (ipykernel)",
   "language": "python",
   "name": "python3"
  },
  "language_info": {
   "codemirror_mode": {
    "name": "ipython",
    "version": 3
   },
   "file_extension": ".py",
   "mimetype": "text/x-python",
   "name": "python",
   "nbconvert_exporter": "python",
   "pygments_lexer": "ipython3",
   "version": "3.11.5"
  }
 },
 "nbformat": 4,
 "nbformat_minor": 5
}
